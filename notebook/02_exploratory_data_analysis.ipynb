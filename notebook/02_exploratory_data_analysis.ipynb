{
 "cells": [
  {
   "cell_type": "markdown",
   "metadata": {},
   "source": [
    "# <a id='toc1_'></a>[Exploratory Data Analysis](#toc0_)"
   ]
  },
  {
   "cell_type": "markdown",
   "metadata": {},
   "source": [
    "**Table of contents**<a id='toc0_'></a>    \n",
    "\n",
    "  - [01. Initial Data Inspection](#toc1_1_)    \n",
    "    - [View Data Structure](#toc1_1_1_)    \n",
    "    - [Info Summary](#toc1_1_2_)    \n",
    "    - [Summary Statistics](#toc1_1_3_)    \n",
    "  - [02. Data Cleansing](#toc1_2_)    \n",
    "    - [Handle Missing Values](#toc1_2_1_)    \n",
    "    - [Remove Duplicates](#toc1_2_2_)    \n",
    "    - [Correct Data Types](#toc1_2_3_)    \n",
    "    - [Fix Errors](#toc1_2_4_)    \n",
    "  - [03. Univariate Analysis](#toc1_3_)    \n",
    "    - [Visualize Distributions](#toc1_3_1_)    \n",
    "    - [Categorical Analysis](#toc1_3_2_)    \n",
    "    - [Summary Statistics](#toc1_3_3_)    \n",
    "  - [04. Bivariate Analysis](#toc1_4_)    \n",
    "    - [Numerical-Numerical Analysis](#toc1_4_1_)    \n",
    "    - [Categorical-Numerical Analysis](#toc1_4_2_)    \n",
    "    - [Categorical-Categorical Analysis](#toc1_4_3_)    \n",
    "  - [05. Multivariate Analysis:](#toc1_5_)    \n",
    "    - [Multivariate Visualization](#toc1_5_1_)    \n",
    "    - [Dimensionality Reduction](#toc1_5_2_)    \n",
    "  - [06. Detect and Handle Outliers](#toc1_6_)    \n",
    "    - [Visual Inspection](#toc1_6_1_)    \n",
    "    - [Handle Outliers](#toc1_6_2_)    \n",
    "  - [07. Feature Engineering](#toc1_7_)    \n",
    "    - [Create New Features](#toc1_7_1_)    \n",
    "    - [Transform Features](#toc1_7_2_)    \n",
    "  - [08. Data Visualization](#toc1_8_)    \n",
    "    - [Visualization Tools](#toc1_8_1_)    \n",
    "    - [Storytelling](#toc1_8_2_)    \n",
    "  - [09. Summary and Reporting](#toc1_9_)    \n",
    "    - [Document Findings](#toc1_9_1_)    \n",
    "    - [Create Reports](#toc1_9_2_)    \n",
    "  - [10. Hypothesis Testing](#toc1_10_)    \n",
    "    - [Formulate Hypotheses](#toc1_10_1_)    \n",
    "    - [Statistical Tests](#toc1_10_2_)    \n",
    "\n",
    "<!-- vscode-jupyter-toc-config\n",
    "\tnumbering=false\n",
    "\tanchor=true\n",
    "\tflat=false\n",
    "\tminLevel=1\n",
    "\tmaxLevel=6\n",
    "\t/vscode-jupyter-toc-config -->\n",
    "<!-- THIS CELL WILL BE REPLACED ON TOC UPDATE. DO NOT WRITE YOUR TEXT IN THIS CELL -->"
   ]
  },
  {
   "cell_type": "code",
   "execution_count": 1,
   "metadata": {},
   "outputs": [],
   "source": [
    "DETECT_LANGUAGE = True\n",
    "\n",
    "# Import Libraries\n",
    "import numpy as np\n",
    "import pandas as pd\n",
    "from tqdm import tqdm\n",
    "\n",
    "# Import Functions\n",
    "import sys\n",
    "sys.path.append('../src')\n",
    "from support_data import detect_language, translate_text\n",
    "\n",
    "# Options\n",
    "pd.options.display.float_format = '{:.2f}'.format"
   ]
  },
  {
   "cell_type": "code",
   "execution_count": 2,
   "metadata": {},
   "outputs": [],
   "source": [
    "train_df = pd.read_csv('../data/train_data.csv')"
   ]
  },
  {
   "cell_type": "markdown",
   "metadata": {},
   "source": [
    "## <a id='toc1_1_'></a>[01. Initial Data Inspection](#toc0_)"
   ]
  },
  {
   "cell_type": "markdown",
   "metadata": {},
   "source": [
    "### <a id='toc1_1_1_'></a>[View Data Structure](#toc0_)"
   ]
  },
  {
   "cell_type": "code",
   "execution_count": 3,
   "metadata": {},
   "outputs": [
    {
     "data": {
      "text/html": [
       "<div>\n",
       "<style scoped>\n",
       "    .dataframe tbody tr th:only-of-type {\n",
       "        vertical-align: middle;\n",
       "    }\n",
       "\n",
       "    .dataframe tbody tr th {\n",
       "        vertical-align: top;\n",
       "    }\n",
       "\n",
       "    .dataframe thead th {\n",
       "        text-align: right;\n",
       "    }\n",
       "</style>\n",
       "<table border=\"1\" class=\"dataframe\">\n",
       "  <thead>\n",
       "    <tr style=\"text-align: right;\">\n",
       "      <th></th>\n",
       "      <th>labels</th>\n",
       "      <th>review_title</th>\n",
       "      <th>text</th>\n",
       "    </tr>\n",
       "  </thead>\n",
       "  <tbody>\n",
       "    <tr>\n",
       "      <th>0</th>\n",
       "      <td>__label__2</td>\n",
       "      <td>Stuning even for the non-gamer</td>\n",
       "      <td>This sound track was beautiful! It paints the ...</td>\n",
       "    </tr>\n",
       "    <tr>\n",
       "      <th>1</th>\n",
       "      <td>__label__2</td>\n",
       "      <td>The best soundtrack ever to anything.</td>\n",
       "      <td>I'm reading a lot of reviews saying that this ...</td>\n",
       "    </tr>\n",
       "    <tr>\n",
       "      <th>2</th>\n",
       "      <td>__label__2</td>\n",
       "      <td>Amazing!</td>\n",
       "      <td>This soundtrack is my favorite music of all ti...</td>\n",
       "    </tr>\n",
       "    <tr>\n",
       "      <th>3</th>\n",
       "      <td>__label__2</td>\n",
       "      <td>Excellent Soundtrack</td>\n",
       "      <td>I truly like this soundtrack and I enjoy video...</td>\n",
       "    </tr>\n",
       "    <tr>\n",
       "      <th>4</th>\n",
       "      <td>__label__2</td>\n",
       "      <td>Remember, Pull Your Jaw Off The Floor After He...</td>\n",
       "      <td>If you've played the game, you know how divine...</td>\n",
       "    </tr>\n",
       "  </tbody>\n",
       "</table>\n",
       "</div>"
      ],
      "text/plain": [
       "       labels                                       review_title  \\\n",
       "0  __label__2                     Stuning even for the non-gamer   \n",
       "1  __label__2              The best soundtrack ever to anything.   \n",
       "2  __label__2                                           Amazing!   \n",
       "3  __label__2                               Excellent Soundtrack   \n",
       "4  __label__2  Remember, Pull Your Jaw Off The Floor After He...   \n",
       "\n",
       "                                                text  \n",
       "0  This sound track was beautiful! It paints the ...  \n",
       "1  I'm reading a lot of reviews saying that this ...  \n",
       "2  This soundtrack is my favorite music of all ti...  \n",
       "3  I truly like this soundtrack and I enjoy video...  \n",
       "4  If you've played the game, you know how divine...  "
      ]
     },
     "execution_count": 3,
     "metadata": {},
     "output_type": "execute_result"
    }
   ],
   "source": [
    "train_df.head()"
   ]
  },
  {
   "cell_type": "code",
   "execution_count": 4,
   "metadata": {},
   "outputs": [
    {
     "data": {
      "text/html": [
       "<div>\n",
       "<style scoped>\n",
       "    .dataframe tbody tr th:only-of-type {\n",
       "        vertical-align: middle;\n",
       "    }\n",
       "\n",
       "    .dataframe tbody tr th {\n",
       "        vertical-align: top;\n",
       "    }\n",
       "\n",
       "    .dataframe thead th {\n",
       "        text-align: right;\n",
       "    }\n",
       "</style>\n",
       "<table border=\"1\" class=\"dataframe\">\n",
       "  <thead>\n",
       "    <tr style=\"text-align: right;\">\n",
       "      <th></th>\n",
       "      <th>labels</th>\n",
       "      <th>review_title</th>\n",
       "      <th>text</th>\n",
       "    </tr>\n",
       "  </thead>\n",
       "  <tbody>\n",
       "    <tr>\n",
       "      <th>3599995</th>\n",
       "      <td>__label__1</td>\n",
       "      <td>Don't do it!!</td>\n",
       "      <td>The high chair looks great when it first comes...</td>\n",
       "    </tr>\n",
       "    <tr>\n",
       "      <th>3599996</th>\n",
       "      <td>__label__1</td>\n",
       "      <td>Looks nice, low functionality</td>\n",
       "      <td>I have used this highchair for 2 kids now and ...</td>\n",
       "    </tr>\n",
       "    <tr>\n",
       "      <th>3599997</th>\n",
       "      <td>__label__1</td>\n",
       "      <td>compact, but hard to clean</td>\n",
       "      <td>We have a small house, and really wanted two o...</td>\n",
       "    </tr>\n",
       "    <tr>\n",
       "      <th>3599998</th>\n",
       "      <td>__label__1</td>\n",
       "      <td>what is it saying?</td>\n",
       "      <td>not sure what this book is supposed to be. It ...</td>\n",
       "    </tr>\n",
       "    <tr>\n",
       "      <th>3599999</th>\n",
       "      <td>__label__2</td>\n",
       "      <td>Makes My Blood Run Red-White-And-Blue</td>\n",
       "      <td>I agree that every American should read this b...</td>\n",
       "    </tr>\n",
       "  </tbody>\n",
       "</table>\n",
       "</div>"
      ],
      "text/plain": [
       "             labels                           review_title  \\\n",
       "3599995  __label__1                          Don't do it!!   \n",
       "3599996  __label__1          Looks nice, low functionality   \n",
       "3599997  __label__1             compact, but hard to clean   \n",
       "3599998  __label__1                     what is it saying?   \n",
       "3599999  __label__2  Makes My Blood Run Red-White-And-Blue   \n",
       "\n",
       "                                                      text  \n",
       "3599995  The high chair looks great when it first comes...  \n",
       "3599996  I have used this highchair for 2 kids now and ...  \n",
       "3599997  We have a small house, and really wanted two o...  \n",
       "3599998  not sure what this book is supposed to be. It ...  \n",
       "3599999  I agree that every American should read this b...  "
      ]
     },
     "execution_count": 4,
     "metadata": {},
     "output_type": "execute_result"
    }
   ],
   "source": [
    "train_df.tail()"
   ]
  },
  {
   "cell_type": "code",
   "execution_count": 5,
   "metadata": {},
   "outputs": [
    {
     "data": {
      "text/html": [
       "<div>\n",
       "<style scoped>\n",
       "    .dataframe tbody tr th:only-of-type {\n",
       "        vertical-align: middle;\n",
       "    }\n",
       "\n",
       "    .dataframe tbody tr th {\n",
       "        vertical-align: top;\n",
       "    }\n",
       "\n",
       "    .dataframe thead th {\n",
       "        text-align: right;\n",
       "    }\n",
       "</style>\n",
       "<table border=\"1\" class=\"dataframe\">\n",
       "  <thead>\n",
       "    <tr style=\"text-align: right;\">\n",
       "      <th></th>\n",
       "      <th>labels</th>\n",
       "      <th>review_title</th>\n",
       "      <th>text</th>\n",
       "    </tr>\n",
       "  </thead>\n",
       "  <tbody>\n",
       "    <tr>\n",
       "      <th>634854</th>\n",
       "      <td>__label__2</td>\n",
       "      <td>If you don't have this CD, get it a/s/a/p!!!!</td>\n",
       "      <td>I thought this CD was great! The song \"Sweet E...</td>\n",
       "    </tr>\n",
       "    <tr>\n",
       "      <th>1924900</th>\n",
       "      <td>__label__1</td>\n",
       "      <td>Waste of money</td>\n",
       "      <td>I was so disappointed in this book. I was hopi...</td>\n",
       "    </tr>\n",
       "    <tr>\n",
       "      <th>1175887</th>\n",
       "      <td>__label__1</td>\n",
       "      <td>Video Quality Review</td>\n",
       "      <td>I began watching this video on my 22 inch comp...</td>\n",
       "    </tr>\n",
       "    <tr>\n",
       "      <th>250887</th>\n",
       "      <td>__label__1</td>\n",
       "      <td>lock up city</td>\n",
       "      <td>this is an example of rotten software...don't ...</td>\n",
       "    </tr>\n",
       "    <tr>\n",
       "      <th>1668209</th>\n",
       "      <td>__label__1</td>\n",
       "      <td>should have been better</td>\n",
       "      <td>The book consists of 47 essays by different au...</td>\n",
       "    </tr>\n",
       "  </tbody>\n",
       "</table>\n",
       "</div>"
      ],
      "text/plain": [
       "             labels                                   review_title  \\\n",
       "634854   __label__2  If you don't have this CD, get it a/s/a/p!!!!   \n",
       "1924900  __label__1                                 Waste of money   \n",
       "1175887  __label__1                           Video Quality Review   \n",
       "250887   __label__1                                   lock up city   \n",
       "1668209  __label__1                        should have been better   \n",
       "\n",
       "                                                      text  \n",
       "634854   I thought this CD was great! The song \"Sweet E...  \n",
       "1924900  I was so disappointed in this book. I was hopi...  \n",
       "1175887  I began watching this video on my 22 inch comp...  \n",
       "250887   this is an example of rotten software...don't ...  \n",
       "1668209  The book consists of 47 essays by different au...  "
      ]
     },
     "execution_count": 5,
     "metadata": {},
     "output_type": "execute_result"
    }
   ],
   "source": [
    "train_df.sample(5)"
   ]
  },
  {
   "cell_type": "markdown",
   "metadata": {},
   "source": [
    "### <a id='toc1_1_2_'></a>[Info Summary](#toc0_)"
   ]
  },
  {
   "cell_type": "code",
   "execution_count": 6,
   "metadata": {},
   "outputs": [
    {
     "name": "stdout",
     "output_type": "stream",
     "text": [
      "<class 'pandas.core.frame.DataFrame'>\n",
      "RangeIndex: 3600000 entries, 0 to 3599999\n",
      "Data columns (total 3 columns):\n",
      " #   Column        Dtype \n",
      "---  ------        ----- \n",
      " 0   labels        object\n",
      " 1   review_title  object\n",
      " 2   text          object\n",
      "dtypes: object(3)\n",
      "memory usage: 2.0 GB\n"
     ]
    }
   ],
   "source": [
    "train_df.info(memory_usage='deep')"
   ]
  },
  {
   "cell_type": "markdown",
   "metadata": {},
   "source": [
    "### <a id='toc1_1_3_'></a>[Summary Statistics](#toc0_)"
   ]
  },
  {
   "cell_type": "code",
   "execution_count": 7,
   "metadata": {},
   "outputs": [
    {
     "data": {
      "text/html": [
       "<div>\n",
       "<style scoped>\n",
       "    .dataframe tbody tr th:only-of-type {\n",
       "        vertical-align: middle;\n",
       "    }\n",
       "\n",
       "    .dataframe tbody tr th {\n",
       "        vertical-align: top;\n",
       "    }\n",
       "\n",
       "    .dataframe thead th {\n",
       "        text-align: right;\n",
       "    }\n",
       "</style>\n",
       "<table border=\"1\" class=\"dataframe\">\n",
       "  <thead>\n",
       "    <tr style=\"text-align: right;\">\n",
       "      <th></th>\n",
       "      <th>labels</th>\n",
       "      <th>review_title</th>\n",
       "      <th>text</th>\n",
       "    </tr>\n",
       "  </thead>\n",
       "  <tbody>\n",
       "    <tr>\n",
       "      <th>count</th>\n",
       "      <td>3600000</td>\n",
       "      <td>3591402</td>\n",
       "      <td>3600000</td>\n",
       "    </tr>\n",
       "    <tr>\n",
       "      <th>unique</th>\n",
       "      <td>2</td>\n",
       "      <td>2611039</td>\n",
       "      <td>3594900</td>\n",
       "    </tr>\n",
       "    <tr>\n",
       "      <th>top</th>\n",
       "      <td>__label__2</td>\n",
       "      <td>Disappointed</td>\n",
       "      <td>I bought a QPS back in April, I had configurat...</td>\n",
       "    </tr>\n",
       "    <tr>\n",
       "      <th>freq</th>\n",
       "      <td>1800000</td>\n",
       "      <td>9641</td>\n",
       "      <td>15</td>\n",
       "    </tr>\n",
       "  </tbody>\n",
       "</table>\n",
       "</div>"
      ],
      "text/plain": [
       "            labels  review_title  \\\n",
       "count      3600000       3591402   \n",
       "unique           2       2611039   \n",
       "top     __label__2  Disappointed   \n",
       "freq       1800000          9641   \n",
       "\n",
       "                                                     text  \n",
       "count                                             3600000  \n",
       "unique                                            3594900  \n",
       "top     I bought a QPS back in April, I had configurat...  \n",
       "freq                                                   15  "
      ]
     },
     "execution_count": 7,
     "metadata": {},
     "output_type": "execute_result"
    }
   ],
   "source": [
    "train_df.describe()"
   ]
  },
  {
   "cell_type": "markdown",
   "metadata": {},
   "source": [
    "## <a id='toc1_2_'></a>[02. Data Cleansing](#toc0_)"
   ]
  },
  {
   "cell_type": "markdown",
   "metadata": {},
   "source": [
    "### <a id='toc1_2_1_'></a>[Handle NaN Values](#toc0_)\n",
    "Identify and handle missing values using techniques such as imputation, removal, or filling with appropriate values."
   ]
  },
  {
   "cell_type": "code",
   "execution_count": 8,
   "metadata": {},
   "outputs": [
    {
     "data": {
      "text/plain": [
       "review_title    8598\n",
       "labels             0\n",
       "text               0\n",
       "dtype: int64"
      ]
     },
     "execution_count": 8,
     "metadata": {},
     "output_type": "execute_result"
    }
   ],
   "source": [
    "train_df.isna().sum().sort_values(ascending = False)"
   ]
  },
  {
   "cell_type": "code",
   "execution_count": 9,
   "metadata": {},
   "outputs": [
    {
     "name": "stderr",
     "output_type": "stream",
     "text": [
      "/tmp/ipykernel_1622/2922635707.py:1: FutureWarning: A value is trying to be set on a copy of a DataFrame or Series through chained assignment using an inplace method.\n",
      "The behavior will change in pandas 3.0. This inplace method will never work because the intermediate object on which we are setting values always behaves as a copy.\n",
      "\n",
      "For example, when doing 'df[col].method(value, inplace=True)', try using 'df.method({col: value}, inplace=True)' or df[col] = df[col].method(value) instead, to perform the operation inplace on the original object.\n",
      "\n",
      "\n",
      "  train_df['review_title'].fillna('no title', inplace=True)\n"
     ]
    }
   ],
   "source": [
    "train_df['review_title'].fillna('no title', inplace=True)"
   ]
  },
  {
   "cell_type": "code",
   "execution_count": 10,
   "metadata": {},
   "outputs": [
    {
     "data": {
      "text/plain": [
       "labels          0\n",
       "review_title    0\n",
       "text            0\n",
       "dtype: int64"
      ]
     },
     "execution_count": 10,
     "metadata": {},
     "output_type": "execute_result"
    }
   ],
   "source": [
    "train_df.isna().sum().sort_values(ascending = False)"
   ]
  },
  {
   "cell_type": "markdown",
   "metadata": {},
   "source": [
    "### <a id='toc1_2_2_'></a>[Remove Duplicates](#toc0_)\n",
    "Identify and remove duplicate rows if they are not needed."
   ]
  },
  {
   "cell_type": "code",
   "execution_count": 11,
   "metadata": {},
   "outputs": [
    {
     "data": {
      "text/plain": [
       "(3600000, 3)"
      ]
     },
     "metadata": {},
     "output_type": "display_data"
    },
    {
     "name": "stdout",
     "output_type": "stream",
     "text": [
      "There are no duplicated values\n"
     ]
    },
    {
     "data": {
      "text/plain": [
       "(3600000, 3)"
      ]
     },
     "metadata": {},
     "output_type": "display_data"
    }
   ],
   "source": [
    "display(train_df.shape)\n",
    "\n",
    "if train_df.duplicated().any():\n",
    "    print('Yes, there are duplicates')\n",
    "    train_df.drop_duplicates(inplace=True)\n",
    "else:\n",
    "    print('There are no duplicated values')\n",
    "\n",
    "display(train_df.shape)"
   ]
  },
  {
   "cell_type": "markdown",
   "metadata": {},
   "source": [
    "### <a id='toc1_2_3_'></a>[Correct Data Types](#toc0_)\n",
    "Convert data types if they are incorrect. In this case, the labels can be transformed to numeric values."
   ]
  },
  {
   "cell_type": "code",
   "execution_count": 12,
   "metadata": {},
   "outputs": [
    {
     "data": {
      "text/plain": [
       "labels\n",
       "__label__2    1800000\n",
       "__label__1    1800000\n",
       "Name: count, dtype: int64"
      ]
     },
     "execution_count": 12,
     "metadata": {},
     "output_type": "execute_result"
    }
   ],
   "source": [
    "train_df['labels'].value_counts()"
   ]
  },
  {
   "cell_type": "code",
   "execution_count": 13,
   "metadata": {},
   "outputs": [
    {
     "name": "stderr",
     "output_type": "stream",
     "text": [
      "/tmp/ipykernel_1622/2362789662.py:2: FutureWarning: A value is trying to be set on a copy of a DataFrame or Series through chained assignment using an inplace method.\n",
      "The behavior will change in pandas 3.0. This inplace method will never work because the intermediate object on which we are setting values always behaves as a copy.\n",
      "\n",
      "For example, when doing 'df[col].method(value, inplace=True)', try using 'df.method({col: value}, inplace=True)' or df[col] = df[col].method(value) instead, to perform the operation inplace on the original object.\n",
      "\n",
      "\n",
      "  train_df['labels'].replace(f'__label__{label_number}', f'{label_number}', regex=True, inplace=True)\n"
     ]
    }
   ],
   "source": [
    "for label_number in range(1, 3):\n",
    "    train_df['labels'].replace(f'__label__{label_number}', f'{label_number}', regex=True, inplace=True)"
   ]
  },
  {
   "cell_type": "code",
   "execution_count": 14,
   "metadata": {},
   "outputs": [],
   "source": [
    "train_df['labels'] = pd.to_numeric(train_df['labels'], downcast='integer')"
   ]
  },
  {
   "cell_type": "code",
   "execution_count": 15,
   "metadata": {},
   "outputs": [
    {
     "name": "stdout",
     "output_type": "stream",
     "text": [
      "<class 'pandas.core.series.Series'>\n",
      "RangeIndex: 3600000 entries, 0 to 3599999\n",
      "Series name: labels\n",
      "Non-Null Count    Dtype\n",
      "--------------    -----\n",
      "3600000 non-null  int8 \n",
      "dtypes: int8(1)\n",
      "memory usage: 3.4 MB\n"
     ]
    }
   ],
   "source": [
    "train_df['labels'].info()"
   ]
  },
  {
   "cell_type": "markdown",
   "metadata": {},
   "source": [
    "### <a id='toc1_2_4_'></a>[Fix Errors](#toc0_)\n",
    "Identify and correct errors or inconsistencies in the data."
   ]
  },
  {
   "cell_type": "code",
   "execution_count": 16,
   "metadata": {},
   "outputs": [
    {
     "name": "stderr",
     "output_type": "stream",
     "text": [
      "Text Processing: 100%|██████████| 3600000/3600000 [3:11:57<00:00, 312.58it/s]  \n"
     ]
    }
   ],
   "source": [
    "if DETECT_LANGUAGE:\n",
    "\n",
    "    from googletrans import Translator\n",
    "    translator = Translator()\n",
    "\n",
    "    spanish_texts = []\n",
    "    english_translations = []\n",
    "    english_texts = []\n",
    "\n",
    "    for text in tqdm(train_df['text'], desc='Text Processing'):\n",
    "\n",
    "        if detect_language(text) == 'es':\n",
    "            spanish_texts.append(text)\n",
    "            translation = translate_text(text, translator)\n",
    "            english_translations.append(translation)\n",
    "            english_texts.append(translation)\n",
    "\n",
    "        else:\n",
    "            english_texts.append(text)\n",
    "\n",
    "    train_df['text'] = english_texts\n",
    "\n",
    "    train_df.to_csv('../data/train_data_preprocessed.csv', index=False)"
   ]
  },
  {
   "cell_type": "code",
   "execution_count": 24,
   "metadata": {},
   "outputs": [
    {
     "data": {
      "text/plain": [
       "6096"
      ]
     },
     "execution_count": 24,
     "metadata": {},
     "output_type": "execute_result"
    }
   ],
   "source": [
    "len(spanish_texts)"
   ]
  },
  {
   "cell_type": "markdown",
   "metadata": {},
   "source": [
    "## <a id='toc1_3_'></a>[03. Univariate Analysis](#toc0_)"
   ]
  },
  {
   "cell_type": "markdown",
   "metadata": {},
   "source": [
    "### <a id='toc1_3_1_'></a>[Visualize Distributions](#toc0_)\n",
    "Plot histograms, box plots, and density plots for numerical variables to understand their distributions."
   ]
  },
  {
   "cell_type": "code",
   "execution_count": 19,
   "metadata": {},
   "outputs": [],
   "source": [
    "# Number of Words Distribution\n",
    "\n",
    "import matplotlib.pyplot as plt\n",
    "\n",
    "train_df['text_words'] = train_df['text'].apply(lambda x: len(x.split()))"
   ]
  },
  {
   "cell_type": "code",
   "execution_count": 20,
   "metadata": {},
   "outputs": [
    {
     "data": {
      "image/png": "[encoded data removed]",
      "text/plain": [
       "<Figure size 1000x500 with 1 Axes>"
      ]
     },
     "metadata": {
      "needs_background": "light"
     },
     "output_type": "display_data"
    }
   ],
   "source": [
    "fig = plt.figure(facecolor = 'none', \n",
    "    figsize = (10, 5))\n",
    "\n",
    "ax = fig.add_subplot(111, \n",
    "    facecolor='none')\n",
    "\n",
    "ax.hist(train_df['text_words'], \n",
    "    bins=75, \n",
    "    edgecolor = 'black',\n",
    "    facecolor = 'none',\n",
    ")\n",
    "\n",
    "plt.xlabel('Number of Words')\n",
    "plt.ylabel('Frequency')\n",
    "plt.show()"
   ]
  },
  {
   "cell_type": "markdown",
   "metadata": {},
   "source": [
    "### <a id='toc1_3_2_'></a>[Categorical Analysis](#toc0_)\n",
    "Use bar plots and pie charts for categorical variables to see the distribution of categories."
   ]
  },
  {
   "cell_type": "code",
   "execution_count": 21,
   "metadata": {},
   "outputs": [
    {
     "data": {
      "text/plain": [
       "labels\n",
       "2    1800000\n",
       "1    1800000\n",
       "Name: count, dtype: int64"
      ]
     },
     "execution_count": 21,
     "metadata": {},
     "output_type": "execute_result"
    }
   ],
   "source": [
    "train_df['labels'].value_counts()"
   ]
  },
  {
   "cell_type": "code",
   "execution_count": 25,
   "metadata": {},
   "outputs": [
    {
     "data": {
      "image/png": "[encoded data removed]",
      "text/plain": [
       "<Figure size 500x500 with 1 Axes>"
      ]
     },
     "metadata": {},
     "output_type": "display_data"
    }
   ],
   "source": [
    "import seaborn as sns\n",
    "\n",
    "data_labels = train_df['labels'].value_counts().to_list()\n",
    "labels = ['Good', 'Bad']\n",
    "\n",
    "plt.figure(figsize = (5, 5), facecolor = 'none')\n",
    "plt.pie(x=data_labels,\n",
    "    labels=labels,\n",
    "    colors=sns.color_palette('crest'), \n",
    "    autopct=\"%.0f%%\", \n",
    "    textprops={'color': 'grey', 'fontsize': 14})\n",
    "\n",
    "plt.show()"
   ]
  },
  {
   "cell_type": "markdown",
   "metadata": {},
   "source": [
    "### <a id='toc1_3_3_'></a>[Summary Statistics](#toc0_)\n",
    "Calculate mean, median, mode, variance, and standard deviation for numerical data."
   ]
  },
  {
   "cell_type": "code",
   "execution_count": 31,
   "metadata": {},
   "outputs": [
    {
     "data": {
      "text/html": [
       "<div>\n",
       "<style scoped>\n",
       "    .dataframe tbody tr th:only-of-type {\n",
       "        vertical-align: middle;\n",
       "    }\n",
       "\n",
       "    .dataframe tbody tr th {\n",
       "        vertical-align: top;\n",
       "    }\n",
       "\n",
       "    .dataframe thead th {\n",
       "        text-align: right;\n",
       "    }\n",
       "</style>\n",
       "<table border=\"1\" class=\"dataframe\">\n",
       "  <thead>\n",
       "    <tr style=\"text-align: right;\">\n",
       "      <th></th>\n",
       "      <th>labels</th>\n",
       "      <th>text_words</th>\n",
       "    </tr>\n",
       "  </thead>\n",
       "  <tbody>\n",
       "    <tr>\n",
       "      <th>count</th>\n",
       "      <td>3600000.00</td>\n",
       "      <td>3600000.00</td>\n",
       "    </tr>\n",
       "    <tr>\n",
       "      <th>mean</th>\n",
       "      <td>1.50</td>\n",
       "      <td>74.21</td>\n",
       "    </tr>\n",
       "    <tr>\n",
       "      <th>std</th>\n",
       "      <td>0.50</td>\n",
       "      <td>42.30</td>\n",
       "    </tr>\n",
       "    <tr>\n",
       "      <th>min</th>\n",
       "      <td>1.00</td>\n",
       "      <td>1.00</td>\n",
       "    </tr>\n",
       "    <tr>\n",
       "      <th>25%</th>\n",
       "      <td>1.00</td>\n",
       "      <td>39.00</td>\n",
       "    </tr>\n",
       "    <tr>\n",
       "      <th>50%</th>\n",
       "      <td>1.50</td>\n",
       "      <td>66.00</td>\n",
       "    </tr>\n",
       "    <tr>\n",
       "      <th>75%</th>\n",
       "      <td>2.00</td>\n",
       "      <td>103.00</td>\n",
       "    </tr>\n",
       "    <tr>\n",
       "      <th>max</th>\n",
       "      <td>2.00</td>\n",
       "      <td>254.00</td>\n",
       "    </tr>\n",
       "  </tbody>\n",
       "</table>\n",
       "</div>"
      ],
      "text/plain": [
       "          labels  text_words\n",
       "count 3600000.00  3600000.00\n",
       "mean        1.50       74.21\n",
       "std         0.50       42.30\n",
       "min         1.00        1.00\n",
       "25%         1.00       39.00\n",
       "50%         1.50       66.00\n",
       "75%         2.00      103.00\n",
       "max         2.00      254.00"
      ]
     },
     "execution_count": 31,
     "metadata": {},
     "output_type": "execute_result"
    }
   ],
   "source": [
    "train_df.describe()"
   ]
  },
  {
   "cell_type": "markdown",
   "metadata": {},
   "source": [
    "## <a id='toc1_4_'></a>[04. Bivariate Analysis](#toc0_)\n",
    "\n",
    "### <a id='toc1_4_1_'></a>[Numerical-Numerical Analysis](#toc0_)\n",
    "Use scatter plots, correlation matrices, and pair plots to examine relationships between numerical variables.\n",
    "\n",
    "### <a id='toc1_4_2_'></a>[Categorical-Numerical Analysis](#toc0_)\n",
    "Use box plots, violin plots, and grouped bar plots to analyze the relationship between categorical and numerical variables.\n",
    "\n",
    "### <a id='toc1_4_3_'></a>[Categorical-Categorical Analysis](#toc0_)\n",
    "Use cross-tabulations, heatmaps, and mosaic plots to explore relationships between categorical variables.\n",
    "\n",
    "## <a id='toc1_5_'></a>[05. Multivariate Analysis:](#toc0_)\n",
    "\n",
    "### <a id='toc1_5_1_'></a>[Multivariate Visualization](#toc0_)\n",
    "Use pair plots, parallel coordinate plots, and 3D scatter plots to explore relationships between multiple variables simultaneously.\n",
    "\n",
    "### <a id='toc1_5_2_'></a>[Dimensionality Reduction](#toc0_)\n",
    "Apply techniques like PCA (Principal Component Analysis) or t-SNE (t-Distributed Stochastic Neighbor Embedding) to reduce the dimensionality and visualize complex datasets.\n",
    "\n",
    "## <a id='toc1_6_'></a>[06. Detect and Handle Outliers](#toc0_)\n",
    "\n",
    "### <a id='toc1_6_1_'></a>[Visual Inspection](#toc0_)\n",
    "Use box plots, scatter plots, and z-scores to detect outliers.\n",
    "\n",
    "### <a id='toc1_6_2_'></a>[Handle Outliers](#toc0_)\n",
    "Decide whether to remove, transform, or cap outliers based on their impact on the analysis.\n",
    "\n",
    "## <a id='toc1_7_'></a>[07. Feature Engineering](#toc0_)\n",
    "\n",
    "### <a id='toc1_7_1_'></a>[Create New Features](#toc0_)\n",
    "Derive new features from existing ones to enhance the dataset.\n",
    "\n",
    "### <a id='toc1_7_2_'></a>[Transform Features](#toc0_)\n",
    "Apply transformations such as scaling, encoding categorical variables, and creating polynomial features.\n",
    "\n",
    "## <a id='toc1_8_'></a>[08. Data Visualization](#toc0_)\n",
    "\n",
    "### <a id='toc1_8_1_'></a>[Visualization Tools](#toc0_)\n",
    "Use libraries like Matplotlib, Seaborn, and Plotly to create informative and interactive visualizations.\n",
    "\n",
    "### <a id='toc1_8_2_'></a>[Storytelling](#toc0_)\n",
    "Create visualizations that help tell a compelling story about the data.\n",
    "\n",
    "## <a id='toc1_9_'></a>[09. Summary and Reporting](#toc0_)\n",
    "\n",
    "### <a id='toc1_9_1_'></a>[Document Findings](#toc0_)\n",
    "Summarize key insights and findings from the EDA.\n",
    "\n",
    "### <a id='toc1_9_2_'></a>[Create Reports](#toc0_)\n",
    "Compile the analysis into a report or presentation format, including visualizations and interpretations.\n",
    "\n",
    "## <a id='toc1_10_'></a>[10. Hypothesis Testing](#toc0_)\n",
    "\n",
    "### <a id='toc1_10_1_'></a>[Formulate Hypotheses](#toc0_)\n",
    "Based on initial findings, formulate hypotheses about the data.\n",
    "\n",
    "### <a id='toc1_10_2_'></a>[Statistical Tests](#toc0_)\n",
    "Conduct statistical tests (e.g., t-tests, chi-square tests) to validate hypotheses."
   ]
  },
  {
   "cell_type": "markdown",
   "metadata": {},
   "source": []
  }
 ],
 "metadata": {
  "kernelspec": {
   "display_name": "env_001",
   "language": "python",
   "name": "python3"
  },
  "language_info": {
   "codemirror_mode": {
    "name": "ipython",
    "version": 3
   },
   "file_extension": ".py",
   "mimetype": "text/x-python",
   "name": "python",
   "nbconvert_exporter": "python",
   "pygments_lexer": "ipython3",
   "version": "3.9.5"
  }
 },
 "nbformat": 4,
 "nbformat_minor": 2
}
